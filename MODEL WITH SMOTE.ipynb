{
 "cells": [
  {
   "cell_type": "code",
   "execution_count": 4,
   "id": "a26fa49c",
   "metadata": {},
   "outputs": [],
   "source": [
    "import pandas as pd\n",
    "import numpy as np\n",
    "\n",
    "\n",
    "\n",
    "df = pd.read_csv('model_smote.csv')"
   ]
  },
  {
   "cell_type": "code",
   "execution_count": 103,
   "id": "582c5814",
   "metadata": {
    "scrolled": true
   },
   "outputs": [
    {
     "data": {
      "text/html": [
       "<div>\n",
       "<style scoped>\n",
       "    .dataframe tbody tr th:only-of-type {\n",
       "        vertical-align: middle;\n",
       "    }\n",
       "\n",
       "    .dataframe tbody tr th {\n",
       "        vertical-align: top;\n",
       "    }\n",
       "\n",
       "    .dataframe thead th {\n",
       "        text-align: right;\n",
       "    }\n",
       "</style>\n",
       "<table border=\"1\" class=\"dataframe\">\n",
       "  <thead>\n",
       "    <tr style=\"text-align: right;\">\n",
       "      <th></th>\n",
       "      <th>step</th>\n",
       "      <th>type</th>\n",
       "      <th>amount</th>\n",
       "      <th>oldbalanceOrg</th>\n",
       "      <th>newbalanceOrig</th>\n",
       "      <th>oldbalanceDest</th>\n",
       "      <th>newbalanceDest</th>\n",
       "      <th>isFraud</th>\n",
       "    </tr>\n",
       "  </thead>\n",
       "  <tbody>\n",
       "    <tr>\n",
       "      <th>6312870</th>\n",
       "      <td>0.789524</td>\n",
       "      <td>1</td>\n",
       "      <td>0.935006</td>\n",
       "      <td>6.745723e+05</td>\n",
       "      <td>0.00</td>\n",
       "      <td>7.154180e+05</td>\n",
       "      <td>1.389990e+06</td>\n",
       "      <td>1</td>\n",
       "    </tr>\n",
       "    <tr>\n",
       "      <th>6937705</th>\n",
       "      <td>-1.099984</td>\n",
       "      <td>1</td>\n",
       "      <td>0.017448</td>\n",
       "      <td>1.908129e+05</td>\n",
       "      <td>0.00</td>\n",
       "      <td>0.000000e+00</td>\n",
       "      <td>1.908129e+05</td>\n",
       "      <td>1</td>\n",
       "    </tr>\n",
       "    <tr>\n",
       "      <th>4565183</th>\n",
       "      <td>-0.673457</td>\n",
       "      <td>1</td>\n",
       "      <td>-0.292594</td>\n",
       "      <td>2.735106e+04</td>\n",
       "      <td>0.00</td>\n",
       "      <td>2.060976e+05</td>\n",
       "      <td>2.334487e+05</td>\n",
       "      <td>1</td>\n",
       "    </tr>\n",
       "    <tr>\n",
       "      <th>5804812</th>\n",
       "      <td>0.745262</td>\n",
       "      <td>1</td>\n",
       "      <td>-0.102915</td>\n",
       "      <td>1.273546e+05</td>\n",
       "      <td>0.00</td>\n",
       "      <td>0.000000e+00</td>\n",
       "      <td>1.273546e+05</td>\n",
       "      <td>1</td>\n",
       "    </tr>\n",
       "    <tr>\n",
       "      <th>7496</th>\n",
       "      <td>-1.832698</td>\n",
       "      <td>2</td>\n",
       "      <td>-0.344143</td>\n",
       "      <td>1.015206e+05</td>\n",
       "      <td>101347.09</td>\n",
       "      <td>0.000000e+00</td>\n",
       "      <td>0.000000e+00</td>\n",
       "      <td>0</td>\n",
       "    </tr>\n",
       "    <tr>\n",
       "      <th>...</th>\n",
       "      <td>...</td>\n",
       "      <td>...</td>\n",
       "      <td>...</td>\n",
       "      <td>...</td>\n",
       "      <td>...</td>\n",
       "      <td>...</td>\n",
       "      <td>...</td>\n",
       "      <td>...</td>\n",
       "    </tr>\n",
       "    <tr>\n",
       "      <th>3262336</th>\n",
       "      <td>0.754298</td>\n",
       "      <td>2</td>\n",
       "      <td>-0.325447</td>\n",
       "      <td>5.090000e+03</td>\n",
       "      <td>0.00</td>\n",
       "      <td>0.000000e+00</td>\n",
       "      <td>0.000000e+00</td>\n",
       "      <td>0</td>\n",
       "    </tr>\n",
       "    <tr>\n",
       "      <th>8284647</th>\n",
       "      <td>-0.537459</td>\n",
       "      <td>4</td>\n",
       "      <td>2.036125</td>\n",
       "      <td>1.255109e+06</td>\n",
       "      <td>0.00</td>\n",
       "      <td>0.000000e+00</td>\n",
       "      <td>0.000000e+00</td>\n",
       "      <td>1</td>\n",
       "    </tr>\n",
       "    <tr>\n",
       "      <th>4304845</th>\n",
       "      <td>1.530397</td>\n",
       "      <td>1</td>\n",
       "      <td>0.059632</td>\n",
       "      <td>9.782030e+05</td>\n",
       "      <td>765149.39</td>\n",
       "      <td>0.000000e+00</td>\n",
       "      <td>2.130536e+05</td>\n",
       "      <td>0</td>\n",
       "    </tr>\n",
       "    <tr>\n",
       "      <th>2147779</th>\n",
       "      <td>0.055809</td>\n",
       "      <td>3</td>\n",
       "      <td>-0.130085</td>\n",
       "      <td>1.982110e+05</td>\n",
       "      <td>311240.83</td>\n",
       "      <td>1.614891e+05</td>\n",
       "      <td>4.845925e+04</td>\n",
       "      <td>0</td>\n",
       "    </tr>\n",
       "    <tr>\n",
       "      <th>7268785</th>\n",
       "      <td>0.053422</td>\n",
       "      <td>1</td>\n",
       "      <td>-0.320597</td>\n",
       "      <td>1.258754e+04</td>\n",
       "      <td>0.00</td>\n",
       "      <td>1.242446e+06</td>\n",
       "      <td>1.255033e+06</td>\n",
       "      <td>1</td>\n",
       "    </tr>\n",
       "  </tbody>\n",
       "</table>\n",
       "<p>100 rows × 8 columns</p>\n",
       "</div>"
      ],
      "text/plain": [
       "             step  type    amount  oldbalanceOrg  newbalanceOrig  \\\n",
       "6312870  0.789524     1  0.935006   6.745723e+05            0.00   \n",
       "6937705 -1.099984     1  0.017448   1.908129e+05            0.00   \n",
       "4565183 -0.673457     1 -0.292594   2.735106e+04            0.00   \n",
       "5804812  0.745262     1 -0.102915   1.273546e+05            0.00   \n",
       "7496    -1.832698     2 -0.344143   1.015206e+05       101347.09   \n",
       "...           ...   ...       ...            ...             ...   \n",
       "3262336  0.754298     2 -0.325447   5.090000e+03            0.00   \n",
       "8284647 -0.537459     4  2.036125   1.255109e+06            0.00   \n",
       "4304845  1.530397     1  0.059632   9.782030e+05       765149.39   \n",
       "2147779  0.055809     3 -0.130085   1.982110e+05       311240.83   \n",
       "7268785  0.053422     1 -0.320597   1.258754e+04            0.00   \n",
       "\n",
       "         oldbalanceDest  newbalanceDest  isFraud  \n",
       "6312870    7.154180e+05    1.389990e+06        1  \n",
       "6937705    0.000000e+00    1.908129e+05        1  \n",
       "4565183    2.060976e+05    2.334487e+05        1  \n",
       "5804812    0.000000e+00    1.273546e+05        1  \n",
       "7496       0.000000e+00    0.000000e+00        0  \n",
       "...                 ...             ...      ...  \n",
       "3262336    0.000000e+00    0.000000e+00        0  \n",
       "8284647    0.000000e+00    0.000000e+00        1  \n",
       "4304845    0.000000e+00    2.130536e+05        0  \n",
       "2147779    1.614891e+05    4.845925e+04        0  \n",
       "7268785    1.242446e+06    1.255033e+06        1  \n",
       "\n",
       "[100 rows x 8 columns]"
      ]
     },
     "execution_count": 103,
     "metadata": {},
     "output_type": "execute_result"
    }
   ],
   "source": [
    "df.sample(100)"
   ]
  },
  {
   "cell_type": "markdown",
   "id": "5d508091",
   "metadata": {},
   "source": [
    "# RANDOM FOREST CLASSIFIER"
   ]
  },
  {
   "cell_type": "code",
   "execution_count": 113,
   "id": "63da39f2",
   "metadata": {},
   "outputs": [],
   "source": [
    "import warnings\n",
    "warnings.filterwarnings('ignore')\n",
    "from sklearn.ensemble import RandomForestClassifier\n",
    "from sklearn.model_selection import train_test_split\n",
    "from sklearn.metrics import confusion_matrix\n",
    "from sklearn.metrics import accuracy_score, precision_score, recall_score, f1_score\n",
    "from sklearn.linear_model import LogisticRegression \n",
    "from xgboost import XGBClassifier"
   ]
  },
  {
   "cell_type": "code",
   "execution_count": 9,
   "id": "be8de3c2",
   "metadata": {},
   "outputs": [
    {
     "name": "stdout",
     "output_type": "stream",
     "text": [
      "True positives: 884321\n",
      "True negatives: 783624\n",
      "False positives: 2939\n",
      "False negatives: 205\n"
     ]
    }
   ],
   "source": [
    "\n",
    "X = df.iloc[:, :7]# Features\n",
    "y = df.iloc[:, -1]# Target Variable\n",
    "\n",
    "assert X.shape[0] == y.shape[0]\n",
    "\n",
    "# Split the data into training and test sets\n",
    "X_train, X_test, y_train, y_test = train_test_split(X, y, test_size=0.2)\n",
    "\n",
    "# Create the random forest classifier\n",
    "clf = RandomForestClassifier()\n",
    "\n",
    "# Train the classifier on the training data\n",
    "clf.fit(X_train, y_train)\n",
    "\n",
    "# Make predictions with the classifier on the test data\n",
    "predictions = clf.predict(X_test)\n",
    "\n",
    "# Ensure that y_true and y_pred have the same number of rows\n",
    "assert y_test.shape[0] == predictions.shape[0], \"y_true and y_pred must have the same number of rows\"\n",
    "\n",
    "# Generate the confusion matrix\n",
    "confusion_matrix = confusion_matrix(y_test, predictions)\n",
    "\n",
    "# Print the confusion matrix values\n",
    "print(\"True positives:\", confusion_matrix[0][0])\n",
    "print(\"True negatives:\", confusion_matrix[1][1])\n",
    "print(\"False positives:\", confusion_matrix[0][1])\n",
    "print(\"False negatives:\", confusion_matrix[1][0])"
   ]
  },
  {
   "cell_type": "code",
   "execution_count": 11,
   "id": "7c7a0ec0",
   "metadata": {},
   "outputs": [
    {
     "name": "stdout",
     "output_type": "stream",
     "text": [
      "Accuracy: 0.9981185921276485\n",
      "Precision: 0.9962634906549126\n",
      "Recall: 0.9997384633638204\n",
      "F1 score: 0.9979979521036786\n"
     ]
    }
   ],
   "source": [
    "accuracy = accuracy_score(y_test, predictions)\n",
    "precision = precision_score(y_test, predictions)\n",
    "recall = recall_score(y_test, predictions)\n",
    "f1 = f1_score(y_test, predictions)\n",
    "\n",
    "# Print the results\n",
    "print(\"Accuracy:\", accuracy)\n",
    "print(\"Precision:\", precision)\n",
    "print(\"Recall:\", recall)\n",
    "print(\"F1 score:\", f1)"
   ]
  },
  {
   "cell_type": "code",
   "execution_count": 12,
   "id": "64950e3c",
   "metadata": {},
   "outputs": [
    {
     "data": {
      "text/plain": [
       "['with_smote.pkl']"
      ]
     },
     "execution_count": 12,
     "metadata": {},
     "output_type": "execute_result"
    }
   ],
   "source": [
    "from joblib import dump, load\n",
    "dump(clf, 'with_smote.pkl')"
   ]
  },
  {
   "cell_type": "code",
   "execution_count": 29,
   "id": "b1535cf5",
   "metadata": {},
   "outputs": [],
   "source": [
    "clf = load('with_smote.pkl')\n",
    "# Make predictions with the loaded model\n",
    "predictions = clf.predict(X_test)"
   ]
  },
  {
   "cell_type": "code",
   "execution_count": 30,
   "id": "08200ff5",
   "metadata": {},
   "outputs": [
    {
     "data": {
      "text/plain": [
       "array([0, 1, 0, ..., 1, 1, 1], dtype=int64)"
      ]
     },
     "execution_count": 30,
     "metadata": {},
     "output_type": "execute_result"
    }
   ],
   "source": [
    "predictions"
   ]
  },
  {
   "cell_type": "code",
   "execution_count": 111,
   "id": "6c059227",
   "metadata": {},
   "outputs": [
    {
     "name": "stdout",
     "output_type": "stream",
     "text": [
      "[1]\n"
     ]
    },
    {
     "name": "stderr",
     "output_type": "stream",
     "text": [
      "C:\\Users\\Binba\\anaconda3\\lib\\site-packages\\sklearn\\base.py:450: UserWarning: X does not have valid feature names, but RandomForestClassifier was fitted with feature names\n",
      "  warnings.warn(\n"
     ]
    }
   ],
   "source": [
    "features = np.array([[1, 1, -1000,181.0, 0.0, 0.0,00.60]])\n",
    "\n",
    "# Make predictions with the loaded model\n",
    "predictions = clf.predict(features)\n",
    "\n",
    "# Print the predicted target variable\n",
    "print(predictions)"
   ]
  },
  {
   "cell_type": "markdown",
   "id": "13ec8107",
   "metadata": {},
   "source": [
    "# LOGISTIC REGRESSION"
   ]
  },
  {
   "cell_type": "code",
   "execution_count": 63,
   "id": "1f7d8a6d",
   "metadata": {},
   "outputs": [],
   "source": [
    "def evaluate_model(y_test, y_pred):\n",
    "    print(\"Accuracy Score: \", accuracy_score(y_test, y_pred))\n",
    "    print(\"Precision Score: \", precision_score(y_test, y_pred))\n",
    "    print(\"Recall Score: \", recall_score(y_test, y_pred))\n",
    "    print(\"F1 Score: \", f1_score(y_test, y_pred))\n",
    "    print(\"Confusion Matrix: \", confusion_matrix(y_test, y_pred))"
   ]
  },
  {
   "cell_type": "code",
   "execution_count": 66,
   "id": "1bd0a857",
   "metadata": {},
   "outputs": [
    {
     "name": "stdout",
     "output_type": "stream",
     "text": [
      "Accuracy Score:  0.880521011211373\n",
      "Precision Score:  0.8239718330828347\n",
      "Recall Score:  0.9480567947181932\n",
      "F1 Score:  0.8816698362034592\n",
      "Confusion Matrix:  [[909503 198633]\n",
      " [ 50942 929783]]\n"
     ]
    }
   ],
   "source": [
    "X = df.iloc[:, :7]# Features\n",
    "y = df.iloc[:, -1]# Target\n",
    "\n",
    "\n",
    "# setting up testing and training sets\n",
    "X_train, X_test, y_train, y_test = train_test_split(X, y, test_size=0.25, random_state=27)\n",
    "\n",
    "lr = LogisticRegression()\n",
    "model1 = lr.fit(X_train, y_train)\n",
    " \n",
    "# Predict on training set\n",
    "lr_pred = model1.predict(X_test)\n",
    "evaluate_model(y_test, lr_pred)"
   ]
  },
  {
   "cell_type": "markdown",
   "id": "47393dd8",
   "metadata": {},
   "source": [
    "# XGBoost Classifier"
   ]
  },
  {
   "cell_type": "code",
   "execution_count": 115,
   "id": "6c97e0e7",
   "metadata": {},
   "outputs": [
    {
     "name": "stdout",
     "output_type": "stream",
     "text": [
      "[19:49:17] WARNING: C:\\Windows\\Temp\\abs_557yfx631l\\croots\\recipe\\xgboost-split_1659548953302\\work\\src\\learner.cc:1115: Starting in XGBoost 1.3.0, the default evaluation metric used with the objective 'binary:logistic' was changed from 'error' to 'logloss'. Explicitly set eval_metric if you'd like to restore the old behavior.\n",
      "Accuracy: 0.9773808132263478\n",
      "Precision: 0.975758816230544\n",
      "Recall: 0.9760804573385973\n",
      "F1 score: 0.9759196102831563\n",
      "Confusion Matrix:  [[1301019   28543]\n",
      " [  28155 1148916]]\n"
     ]
    }
   ],
   "source": [
    "X = df.iloc[:, :7]# Features\n",
    "y = df.iloc[:, -1]# Target\n",
    "\n",
    "# Split the data into training and testing sets\n",
    "X_train, X_test, y_train, y_test = train_test_split(X, y, test_size=0.3, random_state=42)\n",
    "\n",
    "# Train a classifier on the training data\n",
    "clf = XGBClassifier()\n",
    "clf.fit(X_train, y_train)\n",
    "\n",
    "# Make predictions on the test set\n",
    "y_pred = clf.predict(X_test)\n",
    "\n",
    "# Calculate the evaluation metrics\n",
    "accuracy = accuracy_score(y_test, y_pred)\n",
    "precision = precision_score(y_test, y_pred)\n",
    "recall = recall_score(y_test, y_pred)\n",
    "f1 = f1_score(y_test, y_pred)\n",
    "\n",
    "# Print the evaluation metrics\n",
    "print('Accuracy:', accuracy)\n",
    "print('Precision:', precision)\n",
    "print('Recall:', recall)\n",
    "print('F1 score:', f1)\n",
    "print(\"Confusion Matrix: \", confusion_matrix(y_test, y_pred))\n"
   ]
  },
  {
   "cell_type": "code",
   "execution_count": null,
   "id": "bcaf366c",
   "metadata": {},
   "outputs": [],
   "source": []
  }
 ],
 "metadata": {
  "kernelspec": {
   "display_name": "Python 3 (ipykernel)",
   "language": "python",
   "name": "python3"
  },
  "language_info": {
   "codemirror_mode": {
    "name": "ipython",
    "version": 3
   },
   "file_extension": ".py",
   "mimetype": "text/x-python",
   "name": "python",
   "nbconvert_exporter": "python",
   "pygments_lexer": "ipython3",
   "version": "3.9.12"
  }
 },
 "nbformat": 4,
 "nbformat_minor": 5
}
